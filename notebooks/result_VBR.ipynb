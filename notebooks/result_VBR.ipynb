{
 "cells": [
  {
   "cell_type": "code",
   "execution_count": 1,
   "id": "71333a17-bb4f-4143-bd04-5f75aea37cfd",
   "metadata": {
    "editable": true,
    "slideshow": {
     "slide_type": ""
    },
    "tags": []
   },
   "outputs": [],
   "source": [
    "import pandas as pd\n",
    "import numpy as np\n",
    "from openhexa.sdk import workspace\n",
    "from datetime import datetime\n",
    "from tqdm import tqdm\n",
    "import warnings\n",
    "warnings.filterwarnings('ignore')\n",
    "data_path = '/home/hexa/workspace/PBF burundi extraction/data/'\n",
    "tqdm.pandas()\n",
    "from os import listdir, environ\n",
    "from os.path import isfile, join\n",
    "from sqlalchemy import create_engine"
   ]
  },
  {
   "cell_type": "code",
   "execution_count": 8,
   "id": "9e0f92f0-8ed0-4d91-ba3c-a400ebc0581d",
   "metadata": {
    "editable": true,
    "slideshow": {
     "slide_type": ""
    },
    "tags": []
   },
   "outputs": [],
   "source": [
    "def valid_simulation_name(f):\n",
    "    return \"Quality_risk\" in f and \"p_high\" in f and \"Paiement\" in f and \"GAIN_VERIF_MEDIAN_MAX\" in f and \"MIN_NB_TRIM_OBS\"in f and \"MIN_NB_TRIM_WITH_VERIF\" in f and \"p_low\"in f and \"p_mod\" in f and \"cout_verif\" in f and \"seuil_max_moyen_risk\" in f and \"seuil_max_bas_risk\" in f\n",
    "def get_parameters(f):\n",
    "    dict = {\"p_high\" : [], \"Quality_risk\" : [], \"Paiement\": [], \"GAIN_VERIF_MEDIAN_MAX\" : [], \"MIN_NB_TRIM_OBS\" :[], \"MIN_NB_TRIM_WITH_VERIF\" : [], \"p_low\":[], \"p_mod\" : [], \"seuil_max_bas_risk\" : [], \"seuil_max_moyen_risk\" : [], \"cout_verif\" : []}\n",
    "    dict[\"name\"] = f\n",
    "    dict[\"model\"] = [\"defaut\"]\n",
    "    params = f.split('-')\n",
    "    for p in dict:\n",
    "        for p_match in params:\n",
    "            if p in p_match:\n",
    "                if  \"model\" in p:\n",
    "                    dict[\"model\"] = [p_match.split(\"___\")[1]]\n",
    "                else:\n",
    "                    dict.setdefault(p, []).append(p_match.split('___')[1].replace('.csv',''))\n",
    "    return pd.DataFrame.from_dict(dict)\n",
    "def get_statistics(mypath, f):\n",
    "    df = pd.read_csv(join(mypath, f))\n",
    "    df[\"name\"] = f\n",
    "    return df\n",
    "\n",
    "\n",
    "def str_to_date(datestr):\n",
    "    if isinstance(datestr, str) and \"Q\" in datestr:\n",
    "        return datestr[:4] +'-'+str(int(datestr[5])*3)+'-1'\n",
    "    elif isinstance(datestr, int) or datestr.isdigit():\n",
    "        x = int(datestr)\n",
    "        return f\"{x//100}-{x%100}-1\""
   ]
  },
  {
   "cell_type": "code",
   "execution_count": 9,
   "id": "633d37d8-b950-4ccb-87aa-c5e42cabce95",
   "metadata": {
    "editable": true,
    "slideshow": {
     "slide_type": ""
    },
    "tags": []
   },
   "outputs": [
    {
     "name": "stdout",
     "output_type": "stream",
     "text": [
      "Index(['p_high', 'Quality_risk', 'Paiement', 'GAIN_VERIF_MEDIAN_MAX',\n",
      "       'MIN_NB_TRIM_OBS', 'MIN_NB_TRIM_WITH_VERIF', 'p_low', 'p_mod',\n",
      "       'seuil_max_bas_risk', 'seuil_max_moyen_risk', 'cout_verif', 'model',\n",
      "       'province', 'periode', '#centres', '#risque élevé', '#risque modéré',\n",
      "       '#risque faible', '# vérifiés', 'gain moyen', 'taux validation moyen',\n",
      "       'cout vérif (VBR)', 'cout vérif (syst)', 'subsides santé (VBR)',\n",
      "       'subsides santé (syst)', 'cout total (VBR)', 'cout total (syst)',\n",
      "       'cout verif sur cout total (VBR)', 'cout verif sur cout total (syst)',\n",
      "       '#centres lese par taux validation',\n",
      "       '#centres favorise par taux validation', 'Total subsides sous évalués',\n",
      "       'Total subsides sur-évalués', 'perte médiane pour centres non-vérifiés',\n",
      "       'gain médian pour centres vérifiés',\n",
      "       '#_scores_qualite_risqués (centres vérifiés)',\n",
      "       '#_scores_qualite_risqués (centres non-vérifiés)',\n",
      "       '#_scores_qualite_non-risqués (centres vérifiés)',\n",
      "       '#_scores_qualite_non-risqués (centres non-vérifiés)'],\n",
      "      dtype='object')\n"
     ]
    }
   ],
   "source": [
    "#parameters\n",
    "base_path = f\"{workspace.files_path}/PBF burundi extraction/data/\"\n",
    "DB_names = {f\"{base_path}result_simulation\": \"VBR_results\", f\"{base_path}Selections_Verif\" : \"VBR_liste_detaillees\"}\n",
    "for mypath in [f\"{base_path}result_simulation\", f\"{base_path}Selections_Verif\"]:\n",
    "    file_results = [f for f in listdir(mypath) if isfile(join(mypath, f)) and valid_simulation_name(f)]\n",
    "    \n",
    "    dfs = pd.DataFrame()\n",
    "    dfs_detailled = pd.DataFrame()\n",
    "    for f in file_results:\n",
    "        df = get_parameters(f).merge(get_statistics(mypath, f), on = \"name\")\n",
    "        if \"Selections\" in mypath:\n",
    "            dfs_detailled = pd.concat([dfs_detailled,  df],ignore_index = True)\n",
    "            \n",
    "            df[\"nb_centers_verified\"] = df[\"verified\"].map(lambda x: 1 if x else 0)\n",
    "            df[\"nb_centers\"] = 1\n",
    "        \n",
    "            df[\"#_scores_risque_eleve\"] = df['categorie_risque'].map(lambda x: 1 if x == 'high' or x == 'uneligible' else 0)\n",
    "            df[\"#_scores_risque_mod1\"] = df['categorie_risque'].map(lambda x: 1 if x == 'moderate_1' else 0)\n",
    "            df[\"#_scores_risque_mod2\"] = df['categorie_risque'].map(lambda x: 1 if x == 'moderate_2' else 0)\n",
    "            df[\"#_scores_risque_mod3\"] = df['categorie_risque'].map(lambda x: 1 if x == 'moderate_3' else 0)\n",
    "            df[\"#_scores_risque_faible\"] = df['categorie_risque'].map(lambda x: 1 if x == 'low' else 0)\n",
    "            df = df.groupby([\"period\",\"model\",\"p_high\", \"p_mod\", \"p_low\", \"MIN_NB_TRIM_WITH_VERIF\", \"MIN_NB_TRIM_OBS\", \"GAIN_VERIF_MEDIAN_MAX\", \"Paiement\", \"name\",\"level_2_name\",\"level_3_name\"],as_index=False)[[\"nb_centers_verified\",\"#_scores_risque_faible\",\"#_scores_risque_mod1\",\"#_scores_risque_mod2\",\"#_scores_risque_mod3\",\"#_scores_risque_eleve\"]].sum()\n",
    "        dfs =pd.concat([dfs, df], ignore_index = True)\n",
    "    \n",
    "    dfs.rename(columns = {\"level_2_name\":\"province\",\"period\":\"periode\"},inplace= True)\n",
    "    dfs = dfs.sort_values([\"province\",\"periode\"]).drop('name', axis=1)\n",
    "    engine = create_engine(environ[\"WORKSPACE_DATABASE_URL\"])\n",
    "    if \"result_simulation\"in mypath:\n",
    "        print(dfs.columns)\n",
    "        dfs[\"gain_vbr\"] = dfs['cout total (syst)'] - dfs[\"cout total (VBR)\"]\n",
    "    dfs.to_csv(f\"{data_path}/{DB_names[mypath]}.csv\")\n",
    "    dfs.to_sql(DB_names[mypath],con=engine, if_exists=\"replace\")\n",
    "    if \"Selections\" in mypath:\n",
    "        dfs_detailled.verified = dfs_detailled.verified.astype(int)\n",
    "        dfs_detailled.rename(columns = {\"level_2_name\":\"province\",\"period\":\"periode\"},inplace= True)\n",
    "        dfs_detailled[\"date\"] = dfs_detailled[\"periode\"].map(str_to_date)\n",
    "        dfs_detailled = dfs_detailled.sort_values([\"province\",\"periode\"]).drop('name', axis=1)\n",
    "        dfs_detailled.to_sql(\"VBR_liste_verification\",con=engine, if_exists=\"replace\")\n",
    "        dfs_detailled.to_csv(f\"{data_path}/VBR_liste_verification.csv\")"
   ]
  },
  {
   "cell_type": "code",
   "execution_count": 4,
   "id": "95fcb931-5ceb-4dc5-ae37-aa72ba23507a",
   "metadata": {
    "editable": true,
    "slideshow": {
     "slide_type": ""
    },
    "tags": []
   },
   "outputs": [
    {
     "data": {
      "text/plain": [
       "Index(['p_high', 'Quality_risk', 'Paiement', 'GAIN_VERIF_MEDIAN_MAX',\n",
       "       'MIN_NB_TRIM_OBS', 'MIN_NB_TRIM_WITH_VERIF', 'p_low', 'p_mod',\n",
       "       'seuil_max_bas_risk', 'seuil_max_moyen_risk', 'cout_verif', 'model',\n",
       "       'periode', 'ou', 'level_2_uid', 'province', 'level_3_uid',\n",
       "       'level_3_name', 'level_4_uid', 'level_4_name', 'level_5_uid',\n",
       "       'level_5_name', 'level_6_uid', 'level_6_name', 'verified',\n",
       "       'gain_verif_median_precedent', 'gain_verif_actuel',\n",
       "       'benefice_net_verification', 'gain_perte_subside_taux_val',\n",
       "       'taux_validation', 'subside_dec_period_verif',\n",
       "       'subside_val_period_verif', 'subside_period_verif', 'ecart_median',\n",
       "       'categorie_risque', 'indicateurs_qualite_risque_eleve',\n",
       "       'indicateurs_qualite_risque_mod', 'indicateurs_qualite_risque_faible',\n",
       "       'Administration du centre de sante', 'Bloc opératoire et Chirurgie',\n",
       "       'Consultations Externes et Urgences',\n",
       "       'Gestion des médicaments et produits pharmaceutiques',\n",
       "       'Gestion financière, comptable, matériel et équipement',\n",
       "       'Hospitalisation',\n",
       "       'Hygiène, salubrité de l’environnement et stérilisation',\n",
       "       'Indicateur généraux', 'Laboratoire et transfusion sanguine',\n",
       "       'Maternités', 'Plan d’action semestriel',\n",
       "       'Promotion de la santé et participation communautaire',\n",
       "       'Soins curatifs', 'Soins préventifs'],\n",
       "      dtype='object')"
      ]
     },
     "execution_count": 4,
     "metadata": {},
     "output_type": "execute_result"
    }
   ],
   "source": [
    "dfs_detailled.columns"
   ]
  },
  {
   "cell_type": "code",
   "execution_count": 5,
   "id": "b5256c66-88f8-4c56-be2f-da8385a14ab6",
   "metadata": {
    "editable": true,
    "slideshow": {
     "slide_type": ""
    },
    "tags": []
   },
   "outputs": [
    {
     "data": {
      "text/plain": [
       "Index(['periode', 'model', 'p_high', 'p_mod', 'p_low',\n",
       "       'MIN_NB_TRIM_WITH_VERIF', 'MIN_NB_TRIM_OBS', 'GAIN_VERIF_MEDIAN_MAX',\n",
       "       'Paiement', 'province', 'level_3_name', 'nb_centers_verified',\n",
       "       '#_scores_risque_faible', '#_scores_risque_mod1',\n",
       "       '#_scores_risque_mod2', '#_scores_risque_mod3',\n",
       "       '#_scores_risque_eleve'],\n",
       "      dtype='object')"
      ]
     },
     "execution_count": 5,
     "metadata": {},
     "output_type": "execute_result"
    }
   ],
   "source": [
    "dfs.columns"
   ]
  },
  {
   "cell_type": "code",
   "execution_count": null,
   "id": "e45877d5-aff1-4fe8-bb87-c7ce7c847642",
   "metadata": {
    "editable": true,
    "slideshow": {
     "slide_type": ""
    },
    "tags": []
   },
   "outputs": [],
   "source": []
  }
 ],
 "metadata": {
  "kernelspec": {
   "display_name": "Python 3 (ipykernel)",
   "language": "python",
   "name": "python3"
  },
  "language_info": {
   "codemirror_mode": {
    "name": "ipython",
    "version": 3
   },
   "file_extension": ".py",
   "mimetype": "text/x-python",
   "name": "python",
   "nbconvert_exporter": "python",
   "pygments_lexer": "ipython3",
   "version": "3.12.9"
  }
 },
 "nbformat": 4,
 "nbformat_minor": 5
}
